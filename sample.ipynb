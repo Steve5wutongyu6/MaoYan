{
 "cells": [
  {
   "cell_type": "code",
   "execution_count": null,
   "id": "e0e9f04b-1629-478a-a006-ac410bc7140c",
   "metadata": {},
   "outputs": [],
   "source": [
    "!pip install requests bs4"
   ]
  },
  {
   "cell_type": "code",
   "id": "fbc121e30a2defb3",
   "metadata": {
    "jupyter": {
     "is_executing": true
    }
   },
   "source": [
    "# 爬取猫眼影片总票房排行榜\n",
    "import requests\n",
    "from bs4 import BeautifulSoup\n",
    "\n",
    "headers = {\n",
    "    \"User-Agent\": \"Mozilla/5.0 (Windows NT 10.0; Win64; x64) AppleWebKit/537.36 (KHTML, like Gecko) Chrome/108.0.0.0 Safari/537.36 Edg/108.0.1462.42\"\n",
    "}  # 将程序发出的请求伪装成浏览器\n",
    "text = requests.get(\"https://piaofang.maoyan.com/rankings/year\", headers=headers).text\n",
    "# 通过requests请求到电影票房的网页\n",
    "main_page = BeautifulSoup(text, \"html.parser\")  # 后面这个是html的解析器\n",
    "# 使用BeautifulSoup对text进行解析\n",
    "div = main_page.find(\"div\", attrs={\"id\": \"ranks-list\"})\n",
    "# 找到名为div且id为ranks-list的所有标签\n",
    "with open(\"MovieData.csv\", mode=\"w\", encoding=\"utf-8\", newline='') as f:  # 创建一个名为MovieData.csv的文件，放在变量f中，且可以在其后面直接追加文字\n",
    "    f.write(\"排名,片名,票房(万元),平均票价,场均人次\\n\")  # 写入表头\n",
    "    uls = div.find_all('ul')\n",
    "    # 找到div元素中所有名为ul的元素，并存储在uls变量中\n",
    "    for ul in uls:  # 对uls中的元素进行遍历\n",
    "        lst1 = ul.find_all(\"li\", attrs={\"class\": \"col1\"})  # 找到ul中所有类名为col1的Li元素，并储存在lst1\n",
    "        lst2 = ul.find_all(\"li\", attrs={\"class\": \"col2\"})  # 找到ul中所有类名为col2的Li元素，并储存在lst2\n",
    "        lst3 = ul.find_all(\"li\", attrs={\"class\": \"col3\"})  # 找到ul中所有类名为col3的Li元素，并储存在lst3\n",
    "        lst4 = ul.find_all(\"li\", attrs={\"class\": \"col4\"})  # 找到ul中所有类名为col4的Li元素，并储存在lst4\n",
    "        row_data = []  # 用于存储当前行的数据\n",
    "        for li in lst1:  # 对lst1中的元素进行遍历\n",
    "            ps = li.find_all(\"p\")  # 找到ps中所有p元素，并储存在ps\n",
    "            for p in ps:  # 对ps中的元素进行遍历\n",
    "                row_data.append(p.text.strip())  # 将p标签中的文本去除分隔符后添加到row_data中\n",
    "        for li in lst2:  # 对lst2中的元素进行遍历\n",
    "            row_data.append(li.text.strip())  # 将li标签中的文本去除分隔符后添加到row_data中\n",
    "        for li in lst3:  # 对lst3中的元素进行遍历\n",
    "            row_data.append(li.text.strip())  # 将li标签中的文本去除分隔符后添加到row_data中\n",
    "        for li in lst4:  # 对lst4中的元素进行遍历\n",
    "            row_data.append(li.text.strip())  # 将li标签中的文本去除分隔符后添加到row_data中\n",
    "        f.write(\",\".join(row_data) + \"\\n\")  # 使用join方法将row_data中的元素连接成一个字符串，并写入文件"
   ],
   "outputs": [],
   "execution_count": null
  },
  {
   "cell_type": "code",
   "execution_count": null,
   "id": "fa05d1daaeacf260",
   "metadata": {},
   "outputs": [],
   "source": []
  },
  {
   "cell_type": "code",
   "execution_count": null,
   "id": "36d49f3d5fae0cbf",
   "metadata": {},
   "outputs": [],
   "source": []
  }
 ],
 "metadata": {
  "kernelspec": {
   "display_name": "Python 3 (ipykernel)",
   "language": "python",
   "name": "python3"
  },
  "language_info": {
   "codemirror_mode": {
    "name": "ipython",
    "version": 3
   },
   "file_extension": ".py",
   "mimetype": "text/x-python",
   "name": "python",
   "nbconvert_exporter": "python",
   "pygments_lexer": "ipython3",
   "version": "3.12.4"
  }
 },
 "nbformat": 4,
 "nbformat_minor": 5
}
